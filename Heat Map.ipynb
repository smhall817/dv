{
  "cells": [
    {
      "cell_type": "code",
      "execution_count": null,
      "metadata": {
        "id": "sJOFi7dBXe_r"
      },
      "outputs": [],
      "source": [
        "##### STEP 1: Import libraries #####\n",
        "import numpy as np\n",
        "import matplotlib.pyplot as plt"
      ]
    },
    {
      "cell_type": "code",
      "execution_count": null,
      "metadata": {
        "id": "6L1Wxm4xXe_s"
      },
      "outputs": [],
      "source": [
        "##### STEP 2: Generate data using numpy.random.random #####\n",
        "### This method creates an array of size x, y, containing random floats between 0 and 1\n",
        "x = np.random.random((40, 40))\n",
        "### Feel free to change the size of the array\n",
        "#print(x) # Uncomment the command print command if you want to see the data that was generated"
      ]
    },
    {
      "cell_type": "code",
      "execution_count": null,
      "metadata": {
        "id": "KSAQHK-BXe_s"
      },
      "outputs": [],
      "source": [
        "###########################################################\n",
        "###########################################################\n",
        "##### SKIP THIS BLOCK UNTIL YOU HAVE MADE THE GRAPHIC #####\n",
        "### After you have made the heat map, try seeing what happens if you sort the data\n",
        "### Uncomment the following line to see what happens if you sort the data\n",
        "#x.sort()\n",
        "###########################################################\n",
        "###########################################################\n",
        "\n",
        "##### STEP 3: Display and customize heat map #####\n",
        "plt.title(\"Example Heat Map\")\n",
        "plt.imshow(x)\n",
        "### After you run this cell, try adding arguments for color map (cmap='...') and interpolation (interpolation='...')\n",
        "### ... cmap examples: autumn, cool, gray, seismic, Spectral\n",
        "### ... interpolation examples: spline16, nearest, gaussian, quadric\n",
        "### Note: Sometimes, the differences between these interpolations show up better in smaller arrays.\n",
        "### Try reducing the array size if you're having trouble seeing the differences."
      ]
    }
  ],
  "metadata": {
    "colab": {
      "provenance": []
    },
    "kernelspec": {
      "display_name": "Python 3 (ipykernel)",
      "language": "python",
      "name": "python3"
    },
    "language_info": {
      "codemirror_mode": {
        "name": "ipython",
        "version": 3
      },
      "file_extension": ".py",
      "mimetype": "text/x-python",
      "name": "python",
      "nbconvert_exporter": "python",
      "pygments_lexer": "ipython3",
      "version": "3.9.13"
    }
  },
  "nbformat": 4,
  "nbformat_minor": 0
}