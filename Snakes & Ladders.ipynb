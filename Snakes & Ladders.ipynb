{
  "metadata": {
    "language_info": {
      "codemirror_mode": {
        "name": "python",
        "version": 3
      },
      "file_extension": ".py",
      "mimetype": "text/x-python",
      "name": "python",
      "nbconvert_exporter": "python",
      "pygments_lexer": "ipython3",
      "version": "3.8"
    },
    "kernelspec": {
      "name": "python",
      "display_name": "Python (Pyodide)",
      "language": "python"
    }
  },
  "nbformat_minor": 4,
  "nbformat": 4,
  "cells": [
    {
      "cell_type": "code",
      "source": "# Import packages\nimport matplotlib.pyplot as plt\nimport csv",
      "metadata": {
        "trusted": true
      },
      "execution_count": 18,
      "outputs": []
    },
    {
      "cell_type": "code",
      "source": "# Open the \"Snakes & Ladders\" CSV file...\nwith open('Snakes & Ladders.csv', 'r') as csvfile:\n\n    # ... and parse the data to grab 2nd item in each tuple\n    plots = csv.reader(csvfile, delimiter = ',')\n    for row in plots:\n        y.append(int(row[1]))",
      "metadata": {
        "trusted": true
      },
      "execution_count": 19,
      "outputs": []
    },
    {
      "cell_type": "code",
      "source": "#fig = plt.figure(.........) # Choose an (x,y) figure size and set it equal to \"figsize\"\n#plt.hist() # Create a histogram using the arguments y and the number of bins (e.g. 50)\n# You can also provide a \"color\" argument as a string (e.g. \"red\")",
      "metadata": {
        "trusted": true
      },
      "execution_count": 25,
      "outputs": []
    },
    {
      "cell_type": "code",
      "source": "#plt.xlabel(\"Number of Turns\")\n#plt.ylabel(\"Number of Games (10,000 Games Total)\")\n#plt.show()",
      "metadata": {
        "trusted": true
      },
      "execution_count": 26,
      "outputs": []
    }
  ]
}