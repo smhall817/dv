{
  "metadata": {
    "language_info": {
      "codemirror_mode": {
        "name": "python",
        "version": 3
      },
      "file_extension": ".py",
      "mimetype": "text/x-python",
      "name": "python",
      "nbconvert_exporter": "python",
      "pygments_lexer": "ipython3",
      "version": "3.8"
    },
    "kernelspec": {
      "name": "python",
      "display_name": "Python (Pyodide)",
      "language": "python"
    },
    "colab": {
      "provenance": [],
      "toc_visible": true
    }
  },
  "nbformat_minor": 0,
  "nbformat": 4,
  "cells": [
    {
      "cell_type": "code",
      "source": [
        "##### STEP 1: Import packages #####\n",
        "import matplotlib.pyplot as plt\n",
        "import pandas as pd"
      ],
      "metadata": {
        "trusted": true,
        "id": "-T7EPoquU6QA"
      },
      "execution_count": 29,
      "outputs": []
    },
    {
      "cell_type": "code",
      "source": [
        "##### STEP 2: Gather data from GitHub #####\n",
        "url = 'https://raw.githubusercontent.com/smhall817/dv/main/Snakes%20%26%20Ladders.csv'\n",
        "df = pd.read_csv(url)\n",
        "print(df)"
      ],
      "metadata": {
        "trusted": true,
        "id": "d_uirnUZU6QC",
        "outputId": "8b1aeac1-3d9b-40f6-8813-1ebdd2b3d247",
        "colab": {
          "base_uri": "https://localhost:8080/"
        }
      },
      "execution_count": 30,
      "outputs": [
        {
          "output_type": "stream",
          "name": "stdout",
          "text": [
            "      GameNum  NumTurns\n",
            "0           1        30\n",
            "1           2        29\n",
            "2           3        31\n",
            "3           4        16\n",
            "4           5        24\n",
            "...       ...       ...\n",
            "9995     9996        14\n",
            "9996     9997        16\n",
            "9997     9998        29\n",
            "9998     9999         9\n",
            "9999    10000        59\n",
            "\n",
            "[10000 rows x 2 columns]\n"
          ]
        }
      ]
    },
    {
      "cell_type": "code",
      "source": [
        "##### STEP 3: Create figure #####\n",
        "fig = plt.figure()\n",
        "df['NumTurns'].hist()\n",
        "\n",
        "##### STEP 4: Customize figure #####\n",
        "### In the first code of Step 3, add a figure size parameter (figsize=(x,y))\n",
        "### In the second code line of Step 3...\n",
        "### ... try changing the number of bins (bins=x)\n",
        "### ... ... (The number of bins defaults to 10)\n",
        "### ... change the color (color='salmon')\n",
        "### Uncomment the following 2 lines to label the axes\n",
        "#plt.xlabel(\"Number of Turns\")\n",
        "#plt.ylabel(\"Number of Games (10,000 Games Total)\")"
      ],
      "metadata": {
        "trusted": true,
        "id": "vOo62ryDU6QC",
        "outputId": "b3eb5fdc-a1eb-4c1c-fdcf-13bdd2ef4acb",
        "colab": {
          "base_uri": "https://localhost:8080/",
          "height": 282
        }
      },
      "execution_count": 31,
      "outputs": [
        {
          "output_type": "execute_result",
          "data": {
            "text/plain": [
              "<matplotlib.axes._subplots.AxesSubplot at 0x7f9e3e378ca0>"
            ]
          },
          "metadata": {},
          "execution_count": 31
        },
        {
          "output_type": "display_data",
          "data": {
            "text/plain": [
              "<Figure size 432x288 with 1 Axes>"
            ],
            "image/png": "[encoded data removed]"
          },
          "metadata": {
            "needs_background": "light"
          }
        }
      ]
    },
    {
      "cell_type": "code",
      "source": [],
      "metadata": {
        "id": "LQ5TwHD9Zr6v"
      },
      "execution_count": null,
      "outputs": []
    }
  ]
}