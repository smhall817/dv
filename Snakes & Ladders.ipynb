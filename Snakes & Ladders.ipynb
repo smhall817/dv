{
  "metadata": {
    "language_info": {
      "codemirror_mode": {
        "name": "python",
        "version": 3
      },
      "file_extension": ".py",
      "mimetype": "text/x-python",
      "name": "python",
      "nbconvert_exporter": "python",
      "pygments_lexer": "ipython3",
      "version": "3.8"
    },
    "kernelspec": {
      "name": "python",
      "display_name": "Python (Pyodide)",
      "language": "python"
    },
    "colab": {
      "provenance": [],
      "toc_visible": true
    }
  },
  "nbformat_minor": 0,
  "nbformat": 4,
  "cells": [
    {
      "cell_type": "code",
      "source": [
        "# Import packages\n",
        "import matplotlib.pyplot as plt\n",
        "import csv\n",
        "import pandas as pd"
      ],
      "metadata": {
        "trusted": true,
        "id": "-T7EPoquU6QA"
      },
      "execution_count": 23,
      "outputs": []
    },
    {
      "cell_type": "code",
      "source": [
        "# Gather data from CSV file on GitHub\n",
        "# Data is organized in the format (Game #, # Turns)\n",
        "url = 'https://raw.githubusercontent.com/smhall817/dv/main/Snakes%20%26%20Ladders.csv'\n",
        "df = pd.read_csv(url)\n",
        "y = df['# Turns'].to_list()"
      ],
      "metadata": {
        "trusted": true,
        "id": "d_uirnUZU6QC"
      },
      "execution_count": 24,
      "outputs": []
    },
    {
      "cell_type": "code",
      "source": [
        "#fig = plt.figure() # Choose an (x,y) figure size and set it equal to \"figsize\" inside the parentheses\n",
        "#plt.hist() # Create a histogram using the arguments y and the number of bins (e.g. 50)\n",
        "# You can also provide a \"color\" argument as a string (e.g. \"red\")\n",
        "#plt.xlabel(\"Number of Turns\")\n",
        "#plt.ylabel(\"Number of Games (10,000 Games Total)\")\n",
        "#plt.show()"
      ],
      "metadata": {
        "trusted": true,
        "id": "vOo62ryDU6QC"
      },
      "execution_count": 25,
      "outputs": []
    },
    {
      "cell_type": "code",
      "source": [],
      "metadata": {
        "id": "LQ5TwHD9Zr6v"
      },
      "execution_count": null,
      "outputs": []
    }
  ]
}