{
  "metadata": {
    "language_info": {
      "codemirror_mode": {
        "name": "python",
        "version": 3
      },
      "file_extension": ".py",
      "mimetype": "text/x-python",
      "name": "python",
      "nbconvert_exporter": "python",
      "pygments_lexer": "ipython3",
      "version": "3.8"
    },
    "kernelspec": {
      "name": "python",
      "display_name": "Python (Pyodide)",
      "language": "python"
    },
    "colab": {
      "provenance": [],
      "toc_visible": true
    }
  },
  "nbformat_minor": 0,
  "nbformat": 4,
  "cells": [
    {
      "cell_type": "code",
      "source": [
        "##### STEP 1: Import packages #####\n",
        "import matplotlib.pyplot as plt\n",
        "import pandas as pd"
      ],
      "metadata": {
        "trusted": true,
        "id": "-T7EPoquU6QA"
      },
      "execution_count": null,
      "outputs": []
    },
    {
      "cell_type": "code",
      "source": [
        "##### STEP 2: Gather data from GitHub #####\n",
        "url = 'https://raw.githubusercontent.com/smhall817/dv/main/Snakes%20%26%20Ladders.csv'\n",
        "df = pd.read_csv(url)\n",
        "print(df)"
      ],
      "metadata": {
        "trusted": true,
        "id": "d_uirnUZU6QC"
      },
      "execution_count": null,
      "outputs": []
    },
    {
      "cell_type": "code",
      "source": [
        "##### STEP 3: Create figure #####\n",
        "fig = plt.figure()\n",
        "df['NumTurns'].hist()\n",
        "\n",
        "##### STEP 4: Customize figure #####\n",
        "### In the first code of Step 3, add a figure size parameter (figsize=(x,y))\n",
        "### In the second code line of Step 3...\n",
        "### ... try changing the number of bins (bins=x)\n",
        "### ... ... (The number of bins defaults to 10)\n",
        "### ... change the color (color='salmon')\n",
        "### Uncomment the following 2 lines to label the axes\n",
        "#plt.xlabel(\"Number of Turns\")\n",
        "#plt.ylabel(\"Number of Games (10,000 Games Total)\")"
      ],
      "metadata": {
        "trusted": true,
        "id": "vOo62ryDU6QC"
      },
      "execution_count": null,
      "outputs": []
    }
  ]
}