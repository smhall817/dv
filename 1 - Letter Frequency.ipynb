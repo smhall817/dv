{
  "metadata": {
    "language_info": {
      "codemirror_mode": {
        "name": "python",
        "version": 3
      },
      "file_extension": ".py",
      "mimetype": "text/x-python",
      "name": "python",
      "nbconvert_exporter": "python",
      "pygments_lexer": "ipython3",
      "version": "3.8"
    },
    "kernelspec": {
      "name": "python",
      "display_name": "Python (Pyodide)",
      "language": "python"
    },
    "colab": {
      "provenance": []
    }
  },
  "nbformat_minor": 0,
  "nbformat": 4,
  "cells": [
    {
      "cell_type": "code",
      "source": [
        "##### STEP 1: Import libraries #####\n",
        "import pandas as pd\n",
        "import matplotlib.pyplot as plt"
      ],
      "metadata": {
        "trusted": true,
        "id": "qc9VjURIvPzY"
      },
      "execution_count": null,
      "outputs": []
    },
    {
      "cell_type": "code",
      "source": [
        "##### STEP 2: Read data #####\n",
        "url = 'https://raw.githubusercontent.com/smhall817/dv/main/Letter%20Frequency.csv'\n",
        "df = pd.read_csv(url)\n",
        "print(df)"
      ],
      "metadata": {
        "trusted": true,
        "id": "SIr4OWxXvPza"
      },
      "execution_count": null,
      "outputs": []
    },
    {
      "cell_type": "code",
      "source": [
        "##### STEP 3: Create bar chart #####\n",
        "df.plot.bar(x='Letter', y='Percentage')\n",
        "\n",
        "##### STEP 4: Customize chart #####\n",
        "### By adding extra parameters, you can do the following... \n",
        "### ... change the figure size (figsize=(x,y))\n",
        "### ... rotate the x-axis labels (rot=0)\n",
        "### ... change the color (color=''); examples: 'navy', 'cyan', 'mediumorchid', 'slategrey'"
      ],
      "metadata": {
        "trusted": true,
        "id": "eBdmabMVvPza"
      },
      "execution_count": null,
      "outputs": []
    },
    {
      "cell_type": "code",
      "source": [
        "##### STEP 5: Plot the pie chart #####\n",
        "df.plot.pie(y='Percentage')\n",
        "### By default, the labels are numbered. To change this, we can specify an x value.\n",
        "### Try adding the parameter labels=df['Letter']\n",
        "\n",
        "##### STEP 6: Customize the chart #####\n",
        "### Try adding extra parameters to the plot command above. You can use...\n",
        "### ... a figure size (figsize=(x,y))\n",
        "### ... shadow (shadow=True)\n",
        "### ... explode (copy and paste the parameter explode=[.15 for x in range(26)]\n",
        "### ... you can change the decimal value to increase or decrease the explode value\n",
        "### ... a color map (cmap=''), using strings like 'Reds', 'terrain', 'CMRmap', 'twilight', or 'gist_rainbow'\n",
        "\n",
        "##### STEP 7: Position the legend #####\n",
        "#plt.legend()\n",
        "### Uncomment the line above and add some parameters...\n",
        "### ... loc='best' \n",
        "### ... bbox_to_anchor=(-0.1, 1.) # You can change these values to change the spacing between the figure and legend\n",
        "### ... fontsize=12 # Or whatever font size you'd like\n",
        "\n",
        "##### STEP 8: Customize the title #####\n",
        "#plt.ylabel('')\n",
        "### Change the title to something more descritptive"
      ],
      "metadata": {
        "trusted": true,
        "id": "rY3X9PCgvPza"
      },
      "execution_count": null,
      "outputs": []
    }
  ]
}
