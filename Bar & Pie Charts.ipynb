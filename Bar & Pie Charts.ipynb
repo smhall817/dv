{
  "metadata": {
    "language_info": {
      "codemirror_mode": {
        "name": "python",
        "version": 3
      },
      "file_extension": ".py",
      "mimetype": "text/x-python",
      "name": "python",
      "nbconvert_exporter": "python",
      "pygments_lexer": "ipython3",
      "version": "3.8"
    },
    "kernelspec": {
      "name": "python",
      "display_name": "Python (Pyodide)",
      "language": "python"
    }
  },
  "nbformat_minor": 4,
  "nbformat": 4,
  "cells": [
    {
      "cell_type": "code",
      "source": "import matplotlib.pyplot as plt\nimport csv",
      "metadata": {
        "trusted": true
      },
      "execution_count": 6,
      "outputs": []
    },
    {
      "cell_type": "code",
      "source": "# Create \nletters = []\npercentages = []",
      "metadata": {
        "trusted": true
      },
      "execution_count": 7,
      "outputs": []
    },
    {
      "cell_type": "code",
      "source": "# Open CSV file...\nwith open('Letter Frequency.csv', 'r') as csvfile:\n\n    # ... and parse the data to grab the 0th and 2nd item in each tuple\n    plots = csv.reader(csvfile, delimiter = ',')\n    for row in plots:\n        letters.append(row[0])\n        percentages.append(float(row[2]))",
      "metadata": {
        "trusted": true
      },
      "execution_count": 8,
      "outputs": []
    },
    {
      "cell_type": "code",
      "source": "#fig = plt.figure(figsize = (10, 5))\n#plt.bar(.........) # x values, y values, color as string\n#plt.xlabel(.........) # x label as string\n#plt.ylabel(.........) # y label as string\n#plt.title(.........) # chart title as string\n#plt.show()",
      "metadata": {
        "trusted": true
      },
      "execution_count": 14,
      "outputs": []
    },
    {
      "cell_type": "code",
      "source": "#fig = plt.figure(figsize = (10,7))\n#plt.pie(.........) # y values, labels=x values\n#plt.show()",
      "metadata": {
        "trusted": true
      },
      "execution_count": 15,
      "outputs": []
    }
  ]
}