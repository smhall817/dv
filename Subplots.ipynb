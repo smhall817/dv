{
  "nbformat": 4,
  "nbformat_minor": 0,
  "metadata": {
    "colab": {
      "provenance": []
    },
    "kernelspec": {
      "name": "python3",
      "display_name": "Python 3"
    },
    "language_info": {
      "name": "python"
    }
  },
  "cells": [
    {
      "cell_type": "code",
      "execution_count": null,
      "metadata": {
        "id": "qo1tso1Rg_w5"
      },
      "outputs": [],
      "source": [
        "import matplotlib.pyplot as plt\n",
        "import numpy as np\n",
        "\n",
        "x = np.linspace(0, 2, 100)"
      ]
    },
    {
      "cell_type": "code",
      "source": [
        "fig, axs = plt.subplots(1, 4, figsize=(9, 3), sharey=True)\n",
        "axs[0].plot(x, x, linestyle = \"--\", color = \"coral\")\n",
        "axs[1].plot(x, x**2, color = \"cornflowerblue\")\n",
        "axs[2].plot(x, x**3, linestyle = \":\", color = \"olivedrab\")\n",
        "axs[3].plot(x, x**4, linestyle = \"-.\", color = \"darkgoldenrod\")\n",
        "axs[0].title.set_text('Linear')\n",
        "axs[1].title.set_text('Quadratic')\n",
        "axs[2].title.set_text('Cubic')\n",
        "axs[3].title.set_text('Quartic')\n",
        "fig.suptitle('Subplot Example', size=18)\n",
        "plt.tight_layout(rect=[0, 0.03, 1, 0.92])"
      ],
      "metadata": {
        "id": "3z5KJMGuqnWp"
      },
      "execution_count": null,
      "outputs": []
    }
  ]
}