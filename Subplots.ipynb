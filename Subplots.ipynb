{
  "nbformat": 4,
  "nbformat_minor": 0,
  "metadata": {
    "colab": {
      "provenance": []
    },
    "kernelspec": {
      "name": "python3",
      "display_name": "Python 3"
    },
    "language_info": {
      "name": "python"
    }
  },
  "cells": [
    {
      "cell_type": "code",
      "execution_count": null,
      "metadata": {
        "id": "qo1tso1Rg_w5"
      },
      "outputs": [],
      "source": [
        "##### STEP 1: Import libraries #####\n",
        "import matplotlib.pyplot as plt\n",
        "import numpy as np\n",
        "\n",
        "##### STEP 2: Generate data #####\n",
        "x = np.linspace(0, 2, 100)"
      ]
    },
    {
      "cell_type": "code",
      "source": [
        "##### STEP 3: Generate figure with subplots #####\n",
        "fig, axs = plt.subplots(1, 4, figsize=(9, 3)) # The arguments 1 and 4 are the number of rows and columns\n",
        "### If you wanted a 2x2 layout rather than a 1x4, you would need to change the arguments above, but also...\n",
        "### ... you would need to add an extra index to each of the axs[] commands below\n",
        "### ... They would need to be in the format axs[row][column] (e.g. axs[0][0] for top-left, axs[0][1] for top-right, etc.)\n",
        "### As it is, these plots do not share a y-axis. Try adding the parameter sharey=True\n",
        "\n",
        "### The lines below plot and format the subplots\n",
        "### Notice how the different line styles display\n",
        "axs[0].plot(x, x, linestyle = \"--\", color = \"coral\")\n",
        "axs[1].plot(x, x**2, color = \"cornflowerblue\")\n",
        "axs[2].plot(x, x**3, linestyle = \":\", color = \"olivedrab\")\n",
        "axs[3].plot(x, x**4, linestyle = \"-.\", color = \"darkgoldenrod\")\n",
        "axs[0].title.set_text('Linear')\n",
        "axs[1].title.set_text('Quadratic')\n",
        "axs[2].title.set_text('Cubic')\n",
        "axs[3].title.set_text('Quartic')\n",
        "\n",
        "### The suptitle command is a \"super title\" for the entire graphic\n",
        "fig.suptitle('Subplot Example', size=18)\n",
        "\n",
        "### Giving the figure a tight layout keeps everything organized and spaced nicely\n",
        "plt.tight_layout(rect=[0, 0.03, 1, 0.92])"
      ],
      "metadata": {
        "id": "3z5KJMGuqnWp"
      },
      "execution_count": null,
      "outputs": []
    }
  ]
}