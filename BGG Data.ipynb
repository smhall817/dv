{
  "metadata": {
    "language_info": {
      "codemirror_mode": {
        "name": "python",
        "version": 3
      },
      "file_extension": ".py",
      "mimetype": "text/x-python",
      "name": "python",
      "nbconvert_exporter": "python",
      "pygments_lexer": "ipython3",
      "version": "3.8"
    },
    "kernelspec": {
      "name": "python",
      "display_name": "Python (Pyodide)",
      "language": "python"
    },
    "colab": {
      "provenance": []
    }
  },
  "nbformat_minor": 0,
  "nbformat": 4,
  "cells": [
    {
      "cell_type": "code",
      "source": [
        "##### STEP 1: Import libraries #####\n",
        "import csv\n",
        "import matplotlib.pyplot as plt\n",
        "import pandas as pd"
      ],
      "metadata": {
        "trusted": true,
        "id": "LvCHOQNTcbTu"
      },
      "execution_count": 69,
      "outputs": []
    },
    {
      "cell_type": "code",
      "source": [
        "##### STEP 2: Open the file #####\n",
        "# Data is in the format (Name, Year, Weight)\n",
        "url = 'https://raw.githubusercontent.com/smhall817/dv/main/BGG%20Data.csv'\n",
        "df = pd.read_csv(url, on_bad_lines='skip')\n",
        "print(df)"
      ],
      "metadata": {
        "trusted": true,
        "id": "4TeJsXaGcbTw",
        "outputId": "e91a380e-6bf9-473e-8870-eb4ab529838f",
        "colab": {
          "base_uri": "https://localhost:8080/"
        }
      },
      "execution_count": 70,
      "outputs": [
        {
          "output_type": "stream",
          "name": "stdout",
          "text": [
            "                                        Name    Year  Weight\n",
            "0              The Merry Game of Floundering  1952.0    1.00\n",
            "1                                      Skunk  1953.0    1.00\n",
            "2                                     Astron  1954.0    1.00\n",
            "3                              Das Jagdspiel  1954.0    1.00\n",
            "4                  Monopoly: Popular Edition  1954.0    1.00\n",
            "...                                      ...     ...     ...\n",
            "19533                     Europa Universalis  1993.0    4.90\n",
            "19534                 La Grande Guerre 14-18  1999.0    4.91\n",
            "19535                       Patton in Flames  2000.0    4.91\n",
            "19536  Triumph of Chaos v.2 (Deluxe Edition)  2019.0    4.93\n",
            "19537                 Empire (Third Edition)  1981.0    5.00\n",
            "\n",
            "[19538 rows x 3 columns]\n"
          ]
        }
      ]
    },
    {
      "cell_type": "code",
      "source": [
        "##### STEP 3: Create figure #####\n",
        "#fig = plt.figure(.........) # Choose an (x,y) figure size and set it equal to \"figsize\"\n",
        "\n",
        "\n",
        "##### STEP 4: Scatter data points #####\n",
        "#plt.scatter(df.Year, df.Weight)\n",
        "\n",
        "\n",
        "##### STEP 5: Customize figure #####\n",
        "### Try adding additional arguments to the scatter method for marker style (marker=\"...\"), color (color=\"...\"), and size (s=...)\n",
        "### Marker examples: ., v, s, p, 8\n",
        "### Color examples: salmon, lightseagreen, dodgerblue, thistle, goldenrod, deeppink, firebrick\n",
        "### Size is an int (e.g. 3, 7, etc.)\n",
        "\n",
        "\n",
        "##### STEP 6: Label figure #####\n",
        "#plt.xlabel(\"Year Published\")\n",
        "#plt.ylabel(\"Game Weight Per BoardGameGeek.com\")\n",
        "\n",
        "\n",
        "########################################################################################\n",
        "########################################################################################\n",
        "################################### PAUSE HERE #########################################\n",
        "########################################################################################\n",
        "########################################################################################\n",
        "\n",
        "\n",
        "##### STEP 7: Create list of averages for each year #####\n",
        "### Uncomment the following 3 lines\n",
        "#avg = [i for i in df.groupby('Year')['Weight'].mean()]\n",
        "#line = []\n",
        "#for i in range(1950,2020):\n",
        "#    line.append((i, avg[i-1951]))\n",
        "\n",
        "\n",
        "##### STEP 8: Plot line and show figure #####\n",
        "# Try adding a color argument and a line style (linestyle=\"...\")\n",
        "# These arguments go just before the last close-paren\n",
        "# Line style examples: dotted, dashdot, solid, --, -\n",
        "### Uncomment the following 2 lines\n",
        "#plt.plot(*map(list, zip(*line)))\n",
        "#plt.show()"
      ],
      "metadata": {
        "trusted": true,
        "id": "IcQFh3SHcbTy"
      },
      "execution_count": 78,
      "outputs": []
    },
    {
      "cell_type": "code",
      "source": [],
      "metadata": {
        "id": "Nmva6f60m017"
      },
      "execution_count": null,
      "outputs": []
    }
  ]
}