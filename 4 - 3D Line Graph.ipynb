{
  "cells": [
    {
      "cell_type": "code",
      "execution_count": null,
      "metadata": {
        "id": "jgDTBurEcst3"
      },
      "outputs": [],
      "source": [
        "##### STEP 1: Import libraries #####\n",
        "import numpy as np\n",
        "import matplotlib.pyplot as plt"
      ]
    },
    {
      "cell_type": "code",
      "execution_count": null,
      "metadata": {
        "id": "OiIRypOrfUXH"
      },
      "outputs": [],
      "source": [
        "##### STEP 2: Generate data #####\n",
        "x = np.linspace(0, 1, 100) # Generates 100 evenly-spaced numbers between 0 and 1\n",
        "y = x * np.sin(25 * x)\n",
        "z = x * np.sin(25 * x)"
      ]
    },
    {
      "cell_type": "code",
      "execution_count": null,
      "metadata": {
        "id": "dsJX0GcyfXqs"
      },
      "outputs": [],
      "source": [
        "##### STEP 3: Create figure and plot data #####\n",
        "fig = plt.figure()\n",
        "ax = plt.axes(projection = \"3d\")\n",
        "ax.plot3D(x, y, z, \"green\")\n",
        "ax.set_title(\"3D Line Graph\")\n",
        "fig.show()"
      ]
    }
  ],
  "metadata": {
    "colab": {
      "provenance": []
    },
    "kernelspec": {
      "display_name": "Python 3",
      "name": "python3"
    },
    "language_info": {
      "name": "python"
    }
  },
  "nbformat": 4,
  "nbformat_minor": 0
}
