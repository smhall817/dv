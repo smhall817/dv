{
 "cells": [
  {
   "cell_type": "code",
   "execution_count": null,
   "metadata": {
    "id": "jgDTBurEcst3"
   },
   "outputs": [],
   "source": [
    "import numpy as np\n",
    "import matplotlib.pyplot as plt"
   ]
  },
  {
   "cell_type": "code",
   "execution_count": null,
   "metadata": {
    "id": "OiIRypOrfUXH"
   },
   "outputs": [],
   "source": [
    "# Generate data\n",
    "x = np.linspace(0, 1, 100)\n",
    "y = x * np.sin(25 * x)\n",
    "z = x * np.sin(25 * x)"
   ]
  },
  {
   "cell_type": "code",
   "execution_count": null,
   "metadata": {
    "id": "dsJX0GcyfXqs"
   },
   "outputs": [],
   "source": [
    "# Create figure\n",
    "fig = plt.figure()\n",
    "ax = plt.axes(projection = \"3d\")\n",
    "# Plot data\n",
    "ax.plot3D(x, y, z, \"green\")\n",
    "ax.set_title(\"3D Line Graph\")\n",
    "fig.show()"
   ]
  }
 ],
 "metadata": {
  "colab": {
   "provenance": []
  },
  "kernelspec": {
   "display_name": "Python 3",
   "name": "python3"
  },
  "language_info": {
   "name": "python"
  }
 },
 "nbformat": 4,
 "nbformat_minor": 0
}
