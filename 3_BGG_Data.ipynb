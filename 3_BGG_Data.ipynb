{
  "metadata": {
    "language_info": {
      "codemirror_mode": {
        "name": "python",
        "version": 3
      },
      "file_extension": ".py",
      "mimetype": "text/x-python",
      "name": "python",
      "nbconvert_exporter": "python",
      "pygments_lexer": "ipython3",
      "version": "3.8"
    },
    "kernelspec": {
      "name": "python",
      "display_name": "Python (Pyodide)",
      "language": "python"
    },
    "colab": {
      "provenance": []
    }
  },
  "nbformat_minor": 0,
  "nbformat": 4,
  "cells": [
    {
      "cell_type": "code",
      "source": [
        "##### STEP 1: Import libraries #####\n",
        "import matplotlib.pyplot as plt\n",
        "import pandas as pd"
      ],
      "metadata": {
        "trusted": true,
        "id": "LvCHOQNTcbTu"
      },
      "execution_count": null,
      "outputs": []
    },
    {
      "cell_type": "code",
      "source": [
        "##### STEP 2: Open the file #####\n",
        "# Data is in the format (Name, Year, Weight)\n",
        "url = 'https://raw.githubusercontent.com/smhall817/dv/main/BGG%20Data.csv'\n",
        "df = pd.read_csv(url, on_bad_lines='skip')\n",
        "print(df)"
      ],
      "metadata": {
        "trusted": true,
        "id": "4TeJsXaGcbTw"
      },
      "execution_count": null,
      "outputs": []
    },
    {
      "cell_type": "code",
      "source": [
        "##### STEP 3: Create figure #####\n",
        "#fig = plt.figure() # Choose an (x,y) figure size and set it equal to \"figsize\"\n",
        "#plt.scatter(df.Year, df.Weight)\n",
        "\n",
        "\n",
        "##### STEP 4: Customize figure #####\n",
        "### Try adding additional arguments to the scatter method for marker style (marker=\"...\"), color (color=\"...\"), and size (s=...)\n",
        "### Marker examples: ., v, s, p, 8\n",
        "### Color examples: salmon, lightseagreen, dodgerblue, thistle, goldenrod, deeppink, firebrick\n",
        "### Size is an int (e.g. 3, 7, etc.)\n",
        "\n",
        "\n",
        "##### STEP 5: Label figure #####\n",
        "#plt.xlabel(\"Year Published\")\n",
        "#plt.ylabel(\"Game Weight Per BoardGameGeek.com\")\n",
        "\n",
        "\n",
        "########################################################################################\n",
        "########################################################################################\n",
        "################################### PAUSE HERE #########################################\n",
        "########################################################################################\n",
        "########################################################################################\n",
        "\n",
        "\n",
        "##### STEP 6: Create list of averages for each year #####\n",
        "### Uncomment the following 4 lines\n",
        "#avg = [i for i in df.groupby('Year')['Weight'].mean()]\n",
        "#line = []\n",
        "#for i in range(1950,2020):\n",
        "#    line.append((i, avg[i-1951]))\n",
        "\n",
        "\n",
        "##### STEP 7: Plot line and show figure #####\n",
        "# Try adding a color argument and a line style (linestyle=\"...\")\n",
        "# These arguments go just before the last close-paren\n",
        "# Line style examples: dotted, dashdot, solid, --, -\n",
        "### Uncomment the following 2 lines\n",
        "#plt.plot(*map(list, zip(*line)))\n",
        "#plt.show()"
      ],
      "metadata": {
        "trusted": true,
        "id": "IcQFh3SHcbTy"
      },
      "execution_count": null,
      "outputs": []
    }
  ]
}